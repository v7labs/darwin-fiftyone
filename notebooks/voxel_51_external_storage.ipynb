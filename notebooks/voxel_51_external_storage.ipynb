{
 "cells": [
  {
   "cell_type": "markdown",
   "id": "df8bdc4a-4d6d-4d16-a255-bcef2bce32af",
   "metadata": {},
   "source": [
    "# Voxel51 <-> V7 Integration External Storage Walkthrough"
   ]
  },
  {
   "cell_type": "markdown",
   "id": "4b4a3706",
   "metadata": {},
   "source": [
    "# Single-Slotted Example"
   ]
  },
  {
   "cell_type": "code",
   "execution_count": 2,
   "id": "dfa0f84b-3b37-454e-8bc5-32048bdad7b0",
   "metadata": {},
   "outputs": [],
   "source": [
    "# Imports\n",
    "from uuid import uuid4\n",
    "import fiftyone as fo\n",
    "import fiftyone.zoo as foz\n",
    "import darwin_fiftyone"
   ]
  },
  {
   "cell_type": "markdown",
   "id": "55f52ed1",
   "metadata": {},
   "source": [
    "## Load and prepare the data"
   ]
  },
  {
   "cell_type": "markdown",
   "id": "819d3e61",
   "metadata": {},
   "source": [
    "There are two extra things to consider when loading files from external storage: `External file paths` and the `external_storage` argument"
   ]
  },
  {
   "cell_type": "markdown",
   "id": "e7b0cdbf",
   "metadata": {},
   "source": [
    "### External file path\n",
    "**The filepath of each Sample needs to point to the full external path of the file**. For example:\n",
    "\n",
    "- AWS S3: `s3://v7-john/directory/structure/file.jpg`\n",
    "- Azure Blob: `https://v7-john.blob.core.windows.net/v7-john-container/directory/structure/file.jpg`\n",
    "- GCP Bucket: `gs://v7-john/directory/structure/file.jpg`\n",
    "\n",
    "This is because we construct [storage keys](https://docs.v7labs.com/docs/registering-items-from-external-storage#the-basics) by splitting each `Sample` file path by instances of `/` , then joining the all items in the resulting list from the 4th item onward.\n",
    "\n",
    "So long as each Sample file path is the full external path (no matter the Cloud environment), the storage key will be constructed correctly. The code that does this is [here](https://github.com/v7labs/darwin_fiftyone/blob/c26d001a49b0690db1d977992db889259ea6cda9/darwin_fiftyone/darwin.py#L1580).\n",
    "\n",
    "The reason for this workaround is that the open-source version of V51 that V7 has access to doesn’t natively support external storage. "
   ]
  },
  {
   "cell_type": "code",
   "execution_count": null,
   "id": "11a156ce",
   "metadata": {},
   "outputs": [],
   "source": [
    "# Update depending on your external storage environment\n",
    "storage_keys = [\n",
    "    \"gs://john-gcp-bucket/voxel51-tests/000002.jpg\",\n",
    "    \"gs://john-gcp-bucket/voxel51-tests/000008.jpg\",\n",
    "    \"gs://john-gcp-bucket/voxel51-tests/000020.jpg\",\n",
    "    \"gs://john-gcp-bucket/voxel51-tests/000031.jpg\",\n",
    "]\n",
    "\n",
    "samples = [fo.Sample(filepath=storage_key) for storage_key in storage_keys]\n",
    "dataset = fo.Dataset()\n",
    "dataset.add_samples(samples)\n",
    "\n",
    "for sample in samples:\n",
    "    sample.filepath = sample.filepath.replace(\"/Users/john/Documents/code/development/darwin_fiftyone/gs:\", \"gs:/\")  # Update based on your local & external storage environments\n",
    "\n",
    "# Check the filepaths of the samples to ensure they are updated correctly\n",
    "for sample in dataset:\n",
    "    print(sample.filepath)\n"
   ]
  },
  {
   "cell_type": "code",
   "execution_count": null,
   "id": "19ea51ab",
   "metadata": {},
   "outputs": [],
   "source": [
    "\n",
    "# Define a label schema\n",
    "label_schema = {\n",
    "    \"new_detections\": {\n",
    "        \"type\": \"detections\",\n",
    "        \"classes\": [\"apple\",\"orange\"],\n",
    "    }\n",
    "}"
   ]
  },
  {
   "cell_type": "markdown",
   "id": "35070923",
   "metadata": {},
   "source": [
    "### The external_storage argument"
   ]
  },
  {
   "cell_type": "markdown",
   "id": "e6570053",
   "metadata": {},
   "source": [
    "When calling the `annotate()` function, the `external_storage` argument needs to be passed as the configured storage slug `Name` in Darwin"
   ]
  },
  {
   "cell_type": "code",
   "execution_count": null,
   "id": "254f5e13",
   "metadata": {},
   "outputs": [],
   "source": [
    "# Create a unique identifier for this annotation run\n",
    "anno_key = f\"key_{str(uuid4()).replace('-', '_')}\"\n",
    "\n",
    "# Send the data from Voxel51 to Darwin. \n",
    "dataset.annotate(\n",
    "    anno_key,\n",
    "    label_schema = label_schema,\n",
    "    launch_editor=True,\n",
    "    backend=\"darwin\",\n",
    "    dataset_slug=\"v51-external-storage-demo\",\n",
    "    external_storage=\"v7-john-bucket\",\n",
    "    base_url=\"https://darwin.irl.v7labs.com/api/v2/teams\", \n",
    ")"
   ]
  },
  {
   "cell_type": "markdown",
   "id": "f3caa3d0",
   "metadata": {},
   "source": [
    "Annotation in Darwin takes place at this stage"
   ]
  },
  {
   "cell_type": "code",
   "execution_count": null,
   "id": "11ef4c92",
   "metadata": {},
   "outputs": [],
   "source": [
    "# After annotating, send the annotations back:\n",
    "dataset.load_annotations(anno_key)\n",
    "\n",
    "# Finally, visualise the results back in Voxel51\n",
    "session = fo.launch_app(dataset)"
   ]
  },
  {
   "cell_type": "markdown",
   "id": "a7d6bd30",
   "metadata": {},
   "source": [
    "# Multi-Slotted Example"
   ]
  },
  {
   "cell_type": "code",
   "execution_count": null,
   "id": "07b3f2b1",
   "metadata": {},
   "outputs": [],
   "source": [
    "# Imports\n",
    "from uuid import uuid4\n",
    "import fiftyone as fo\n",
    "import fiftyone.zoo as foz\n",
    "import darwin_fiftyone"
   ]
  },
  {
   "cell_type": "markdown",
   "id": "59ad1dee",
   "metadata": {},
   "source": [
    "## Load and prepare the data"
   ]
  },
  {
   "cell_type": "code",
   "execution_count": null,
   "id": "23cb11e8",
   "metadata": {},
   "outputs": [],
   "source": [
    "# Update depending on your external storage environment\n",
    "storage_keys_left = [\n",
    "    \"gs://john-gcp-bucket/voxel51-tests/000002.jpg\",\n",
    "    \"gs://john-gcp-bucket/voxel51-tests/000008.jpg\",\n",
    "    \"gs://john-gcp-bucket/voxel51-tests/000020.jpg\",\n",
    "    \"gs://john-gcp-bucket/voxel51-tests/000031.jpg\",\n",
    "]\n",
    "storage_keys_right = [\n",
    "    \"gs://john-gcp-bucket/voxel51-tests/000035.jpg\",\n",
    "    \"gs://john-gcp-bucket/voxel51-tests/000058.jpg\",\n",
    "    \"gs://john-gcp-bucket/voxel51-tests/000083.jpg\",\n",
    "    \"gs://john-gcp-bucket/voxel51-tests/000089.jpg\",\n",
    "]\n",
    "\n",
    "dataset = fo.Dataset()\n",
    "dataset.add_group_field(\"group\")\n"
   ]
  },
  {
   "cell_type": "markdown",
   "id": "39b3951a",
   "metadata": {},
   "source": [
    "### Manually create V7 multi-slot items by creating V51 [Grouped Dataset](https://docs.voxel51.com/user_guide/groups.html#adding-samples)"
   ]
  },
  {
   "cell_type": "code",
   "execution_count": null,
   "id": "cf5c3ac5",
   "metadata": {},
   "outputs": [],
   "source": [
    "\n",
    "# Create a grouped dataset with two slices (=slots): left and right\n",
    "samples = []\n",
    "for file_left, file_right in zip(storage_keys_left, storage_keys_right):\n",
    "    group = fo.Group() # create the sample group\n",
    "    sample_left = fo.Sample(filepath=file_left, group=group.element(\"left\")) # create the left-sample and assign to the group\n",
    "    sample_right = fo.Sample(filepath=file_right, group=group.element(\"right\"))# create the right-sample and assign to the group\n",
    "    samples.append(sample_left)\n",
    "    samples.append(sample_right)\n",
    "\n",
    "dataset.add_samples(samples)\n",
    "\n",
    "for sample in samples:\n",
    "    sample.filepath = sample.filepath.replace(\"/Users/john/Documents/code/development/darwin_fiftyone/gs:\", \"gs:/\")  # Update based on your local & external storage environments\n",
    "\n",
    "label_schema = {\n",
    "    \"new_detections\": {\n",
    "        \"type\": \"detections\",\n",
    "        \"classes\": [\"apple\",\"orange\"],\n",
    "    }\n",
    "}"
   ]
  },
  {
   "cell_type": "markdown",
   "id": "5d3473b2",
   "metadata": {},
   "source": [
    "## Register the data in Darwin"
   ]
  },
  {
   "cell_type": "code",
   "execution_count": null,
   "id": "f8aaf1b1",
   "metadata": {},
   "outputs": [],
   "source": [
    "# Create a unique identifier for this annotation run\n",
    "anno_key = f\"key_{str(uuid4()).replace('-', '_')}\"\n",
    "\n",
    "# Send the data from Voxel51 to Darwin. \n",
    "groups = dataset.select_group_slices(media_type=\"image\")\n",
    "groups.annotate(\n",
    "    anno_key,\n",
    "    label_schema = label_schema,\n",
    "    launch_editor=True,\n",
    "    backend=\"darwin\",\n",
    "    dataset_slug=\"v51-external-storage-demo\",\n",
    "    Groups=True,\n",
    "    external_storage=\"v7-john-bucket\",\n",
    "    base_url=\"https://darwin.irl.v7labs.com/api/v2/teams\",\n",
    ")"
   ]
  },
  {
   "cell_type": "markdown",
   "id": "9b3a877f",
   "metadata": {},
   "source": [
    "Annotation in Darwin takes place at this stage"
   ]
  },
  {
   "cell_type": "code",
   "execution_count": null,
   "id": "6082fd16",
   "metadata": {},
   "outputs": [],
   "source": [
    "# After annotating, send the annotations back:\n",
    "dataset.load_annotations(anno_key)\n",
    "\n",
    "# Finally, visualise the results back in Voxel51\n",
    "session = fo.launch_app(dataset)"
   ]
  }
 ],
 "metadata": {
  "kernelspec": {
   "display_name": ".venv",
   "language": "python",
   "name": "python3"
  },
  "language_info": {
   "codemirror_mode": {
    "name": "ipython",
    "version": 3
   },
   "file_extension": ".py",
   "mimetype": "text/x-python",
   "name": "python",
   "nbconvert_exporter": "python",
   "pygments_lexer": "ipython3",
   "version": "3.9.6"
  }
 },
 "nbformat": 4,
 "nbformat_minor": 5
}
