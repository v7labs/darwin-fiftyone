{
 "cells": [
  {
   "cell_type": "markdown",
   "id": "df8bdc4a-4d6d-4d16-a255-bcef2bce32af",
   "metadata": {},
   "source": [
    "# Voxel51 <-> V7 Multi-Slotted Walkthrough"
   ]
  },
  {
   "cell_type": "markdown",
   "id": "f923eecf-f6ae-4742-80b1-59444469433a",
   "metadata": {},
   "source": [
    "## Load & prepare the data"
   ]
  },
  {
   "cell_type": "code",
   "execution_count": 5,
   "id": "2baf7c0d",
   "metadata": {},
   "outputs": [],
   "source": [
    "from uuid import uuid4\n",
    "\n",
    "import fiftyone as fo\n",
    "import fiftyone.zoo as foz\n",
    "import darwin_fiftyone"
   ]
  },
  {
   "cell_type": "code",
   "execution_count": null,
   "id": "824571c5",
   "metadata": {},
   "outputs": [],
   "source": [
    "# Load a subset of a grouped open Voxel51 dataset\n",
    "group_dataset = foz.load_zoo_dataset(\"quickstart-groups\", max_samples=10)\n",
    "group_view = group_dataset.select_groups(group_dataset)\n",
    "groups = group_view.select_group_slices(media_type=\"image\")\n"
   ]
  },
  {
   "cell_type": "markdown",
   "id": "4f5a8722",
   "metadata": {},
   "source": [
    "To annotate multi-slotted dataset items, the relevant Voxel51 dataset must be a [grouped dataset](https://www.notion.so/Voxel51-Integration-fd9ee3a516714b3e93ddac4ef0ffbf0a?pvs=21). \n",
    "\n",
    "When working with grouped datasets, it’s required that a single `media_type` is specified for the `Dataset` or `View` by using the `select_group_slices()` function. This is because the `annotate()` function doesn’t directly support grouped datasets"
   ]
  },
  {
   "cell_type": "code",
   "execution_count": null,
   "id": "8f3c45d4",
   "metadata": {},
   "outputs": [],
   "source": [
    "\n",
    "# Display the data in the Voxel51 app\n",
    "session = fo.launch_app(groups)\n",
    "\n",
    "# Define a label schema (Essentially an ontology of classes, see below for detail)\n",
    "label_schema = {\n",
    "    \"new_detections\": {\n",
    "        \"type\": \"detections\",\n",
    "        \"classes\": [\"apple\",\"orange\"],\n",
    "    }\n",
    "}\n"
   ]
  },
  {
   "cell_type": "markdown",
   "id": "925a5ce7",
   "metadata": {},
   "source": [
    "## Upload the data to Darwin"
   ]
  },
  {
   "cell_type": "code",
   "execution_count": null,
   "id": "0ea60361",
   "metadata": {},
   "outputs": [],
   "source": [
    "# Create a unique identifier for this annotation run\n",
    "anno_key = f\"key_{str(uuid4()).replace('-', '_')}\"\n",
    "\n",
    "groups.annotate(\n",
    "    anno_key,\n",
    "    label_schema = label_schema,\n",
    "    launch_editor=True,\n",
    "    backend=\"darwin\",\n",
    "    dataset_slug=\"group-test-dataset\",\n",
    "    base_url=\"https://darwin.v7labs.com/api/v2/teams\",\n",
    "    Groups=True,\n",
    ")"
   ]
  },
  {
   "cell_type": "markdown",
   "id": "9f5d42b8",
   "metadata": {},
   "source": [
    "The above method is uploading data stored locally (i.e. the `quickstart-groups` dataset, which is [already configured as a grouped dataset](https://docs.voxel51.com/user_guide/groups.html#quickstart-groups). So instead of having to assign samples to specific slots, it's already done for you when the dataset is loaded from the V51 side )"
   ]
  },
  {
   "cell_type": "markdown",
   "id": "f3caa3d0",
   "metadata": {},
   "source": [
    "## Annotation in Darwin take place at this stage"
   ]
  },
  {
   "cell_type": "code",
   "execution_count": null,
   "id": "11ef4c92",
   "metadata": {},
   "outputs": [],
   "source": [
    "# After annotating, send the annotations back:\n",
    "groups.load_annotations(anno_key)\n",
    "\n",
    "# Finally, visualise the results back in Voxel51\n",
    "session = fo.launch_app(groups)"
   ]
  },
  {
   "cell_type": "code",
   "execution_count": null,
   "id": "144700bb",
   "metadata": {},
   "outputs": [],
   "source": [
    "# To delete the associated V7 dataset and workflow you can use the cleanupmethod. It should be used only when you are finished with that data in V7.\n",
    "results = groups.load_annotation_results(anno_key)\n",
    "results.cleanup()"
   ]
  }
 ],
 "metadata": {
  "kernelspec": {
   "display_name": ".venv",
   "language": "python",
   "name": "python3"
  },
  "language_info": {
   "codemirror_mode": {
    "name": "ipython",
    "version": 3
   },
   "file_extension": ".py",
   "mimetype": "text/x-python",
   "name": "python",
   "nbconvert_exporter": "python",
   "pygments_lexer": "ipython3",
   "version": "3.9.6"
  }
 },
 "nbformat": 4,
 "nbformat_minor": 5
}
