{
 "cells": [
  {
   "cell_type": "markdown",
   "id": "df8bdc4a-4d6d-4d16-a255-bcef2bce32af",
   "metadata": {},
   "source": [
    "# Voxel51 <-> V7 Integration Simple Case Walkthrough"
   ]
  },
  {
   "cell_type": "code",
   "execution_count": null,
   "id": "dfa0f84b-3b37-454e-8bc5-32048bdad7b0",
   "metadata": {},
   "outputs": [],
   "source": [
    "# Imports\n",
    "from uuid import uuid4\n",
    "import fiftyone as fo\n",
    "import fiftyone.zoo as foz\n",
    "import darwin_fiftyone"
   ]
  },
  {
   "cell_type": "markdown",
   "id": "f923eecf-f6ae-4742-80b1-59444469433a",
   "metadata": {},
   "source": [
    "### Load & prepare the data"
   ]
  },
  {
   "cell_type": "code",
   "execution_count": null,
   "id": "824571c5",
   "metadata": {},
   "outputs": [],
   "source": [
    "# Load 10 samples of an open Voxel51 dataset\n",
    "dataset = foz.load_zoo_dataset(\n",
    "    \"quickstart\",\n",
    "    max_samples=10,\n",
    "    dataset_name=\"demonstration-dataset\"\n",
    ")\n",
    "\n",
    "# Create a view of the dataset by taking 5 random samples\n",
    "view = dataset.take(5)\n",
    "\n",
    "# Display the data in the Voxel51 app\n",
    "session = fo.launch_app(view)\n",
    "\n",
    "# Define a label schema (Essentially an ontology of classes, see below for detail)\n",
    "label_schema = {\n",
    "    \"new_detections\": {\n",
    "        \"type\": \"detections\",\n",
    "        \"classes\": [\"apple\",\"orange\"],\n",
    "    }\n",
    "}\n"
   ]
  },
  {
   "cell_type": "markdown",
   "id": "925a5ce7",
   "metadata": {},
   "source": [
    "### Upload the data to Darwin"
   ]
  },
  {
   "cell_type": "code",
   "execution_count": null,
   "id": "0ea60361",
   "metadata": {},
   "outputs": [],
   "source": [
    "# Create a unique identifier for this annotation run\n",
    "anno_key = f\"key_{str(uuid4()).replace('-', '_')}\"\n",
    "\n",
    "# Send the data from Voxel51 to Darwin. \n",
    "dataset.annotate(\n",
    "    anno_key,\n",
    "    label_schema = label_schema,\n",
    "    launch_editor=True,\n",
    "    backend=\"darwin\",\n",
    "    dataset_slug=\"51-demo-dataset\",\n",
    "    base_url=\"https://darwin.v7labs.com/api/v2/teams\",\n",
    ")"
   ]
  },
  {
   "cell_type": "markdown",
   "id": "e355d229",
   "metadata": {},
   "source": [
    "**Annotation run ID**\n",
    "\n",
    "The `anno_key` is a unique alphanumeric string for an annotation run in Darwin. It **must** start with a letter. Annotation runs on a particular `Dataset` or `View` can be displayed with:"
   ]
  },
  {
   "cell_type": "markdown",
   "id": "311c7a8d",
   "metadata": {},
   "source": [
    "**The `Dataset.annotate()` function**\n",
    "\n",
    "When run, this function instantiates an annotation run. This means:\n",
    "\n",
    "- 1: Creates the passed `dataset_slug` as a Darwin dataset if it doesn’t exist\n",
    "- 2: Creates the passed `label_schema` (see below) as a set of annotation classes in the dataset. Existing classes will be added to the dataset, and new classes will be created\n",
    "- 3: Uploads all samples added to the `Dataset` object to the Darwin dataset. This is achieved by using the `push()` [function in darwin-py](https://github.com/v7labs/darwin-py/blob/3bc1912101c51e40c138d6ee916a416d9a584065/darwin/dataset/remote_dataset_v2.py#L144))\n",
    "- 4: Uploads annotations in the Voxel51 dataset that are of any class passed in the label schema (see below) - This is achieved by using the `import_annotations()` [function in darwin-py](https://github.com/v7labs/darwin-py/blob/3bc1912101c51e40c138d6ee916a416d9a584065/darwin/importer/importer.py#L668))\n",
    "\n",
    "The `backend` argument is always `darwin`. It’s necessary because Voxel51 uses the same function for integration with other partners, in which case the value of `backend` changes"
   ]
  },
  {
   "cell_type": "code",
   "execution_count": null,
   "id": "9bc7de47",
   "metadata": {},
   "outputs": [],
   "source": [
    "dataset.list_annotation_runs()"
   ]
  },
  {
   "cell_type": "markdown",
   "id": "f3caa3d0",
   "metadata": {},
   "source": [
    "### Annotation in Darwin take place at this stage"
   ]
  },
  {
   "cell_type": "code",
   "execution_count": null,
   "id": "a8d0624a",
   "metadata": {},
   "outputs": [],
   "source": [
    "# You can use the below code to check the status of the annotation job\n",
    "results = dataset.load_annotation_results(anno_key)\n",
    "results.check_status()"
   ]
  },
  {
   "cell_type": "code",
   "execution_count": null,
   "id": "11ef4c92",
   "metadata": {},
   "outputs": [],
   "source": [
    "# After annotating, send the annotations back:\n",
    "dataset.load_annotations(anno_key)"
   ]
  },
  {
   "cell_type": "markdown",
   "id": "9845b1b8",
   "metadata": {},
   "source": [
    "The **`Dataset.load_annotations()`** function:\n",
    "\n",
    "When run, this function concludes an annotation run. This means:\n",
    "\n",
    "- 1: Creating an export of all items in the target dataset\n",
    "- 2: Downloading the annotation ZIP file once the export is complete\n",
    "- 3: Cycling through all annotations, and converting all annotations for classes **matching the original label schema class names** back to Voxel51’s own format. This means that classes added to a dataset mid-annotation run **will not be considered!** However, note that property values or attributes added to included classes mid-annotation run will be included in the export"
   ]
  },
  {
   "cell_type": "code",
   "execution_count": null,
   "id": "ff23aef6",
   "metadata": {},
   "outputs": [],
   "source": [
    "# Finally, visualise the results back in Voxel51\n",
    "session = fo.launch_app(dataset)"
   ]
  },
  {
   "cell_type": "code",
   "execution_count": null,
   "id": "07bec3c5",
   "metadata": {},
   "outputs": [],
   "source": [
    "# To delete the associated V7 dataset and workflow you can use the cleanupmethod. It should be used only when you are finished with that data in V7.\n",
    "results = dataset.load_annotation_results(anno_key)\n",
    "results.cleanup()"
   ]
  }
 ],
 "metadata": {
  "kernelspec": {
   "display_name": "Python 3",
   "language": "python",
   "name": "python3"
  },
  "language_info": {
   "codemirror_mode": {
    "name": "ipython",
    "version": 3
   },
   "file_extension": ".py",
   "mimetype": "text/x-python",
   "name": "python",
   "nbconvert_exporter": "python",
   "pygments_lexer": "ipython3",
   "version": "3.9.6"
  }
 },
 "nbformat": 4,
 "nbformat_minor": 5
}
